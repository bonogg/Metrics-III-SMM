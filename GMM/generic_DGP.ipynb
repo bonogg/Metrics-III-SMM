{
 "cells": [
  {
   "cell_type": "markdown",
   "metadata": {
    "nteract": {
     "transient": {
      "deleting": false
     }
    }
   },
   "source": [
    "## Generic Capital Adjustment Problem\n",
    "### For GMM\n"
   ]
  },
  {
   "cell_type": "code",
   "execution_count": 1,
   "metadata": {
    "jupyter": {
     "outputs_hidden": false,
     "source_hidden": false
    },
    "nteract": {
     "transient": {
      "deleting": false
     }
    }
   },
   "outputs": [
    {
     "name": "stderr",
     "output_type": "stream",
     "text": [
      "OMP: Info #271: omp_set_nested routine deprecated, please use omp_set_max_active_levels instead.\n"
     ]
    }
   ],
   "source": [
    "import numpy as np\n",
    "import pandas as pd\n",
    "import matplotlib.pyplot as plt\n",
    "from quantecon.markov.approximation import tauchen\n",
    "from numba import typeof, jit, njit, prange, float64, int64\n"
   ]
  },
  {
   "cell_type": "code",
   "execution_count": 2,
   "metadata": {
    "jupyter": {
     "outputs_hidden": false,
     "source_hidden": false
    },
    "nteract": {
     "transient": {
      "deleting": false
     }
    }
   },
   "outputs": [],
   "source": [
    "δ = 0.06\n",
    "α = 0.6\n",
    "β = 0.96\n",
    "\n",
    "# shocks\n",
    "ρ_a = 0.78\n",
    "σ_a = 0.1\n",
    "μ_a = 0.00\n",
    "naa = 20\n",
    "mc_A = tauchen(ρ_a, σ_a, μ_a, m=2, n=naa)\n",
    "A_array, PA = mc_A.state_values, mc_A.P\n",
    "A_array = np.exp(A_array)\n",
    "\n",
    "# price\n",
    "ρ_p = 0.7\n",
    "σ_p = 0.3\n",
    "μ_p = 0.9\n",
    "npp = 10\n",
    "mc_p = tauchen(ρ_p, σ_p, μ_p, m=2, n=npp)\n",
    "p_array, Pp = mc_p.state_values, mc_p.P\n",
    "\n",
    "# discretization: k is a \"continuous\" choice\n",
    "nkk = 100\n",
    "kmax = 10\n",
    "kmin = 0.01\n",
    "k_grid = np.linspace(kmin, kmax, nkk)\n",
    "\n",
    "# unified exogenous states\n",
    "n_exo = naa * npp\n",
    "\n",
    "P_exo = np.empty((n_exo, n_exo))\n",
    "exo_pos = np.empty((n_exo, 2), dtype=np.int8)\n",
    "exo_key = np.empty((n_exo, 2))\n",
    "\n",
    "index = 0\n",
    "\n",
    "for j in range(naa): #aggre. shock\n",
    "    for s in range(npp): #r.e. price\n",
    "\n",
    "        # index the variable\n",
    "        exo_pos[index,0], exo_key[index,0] = j, A_array[j]\n",
    "        exo_pos[index,1], exo_key[index,1] = s, p_array[s]\n",
    "\n",
    "        # creating the transition matrix\n",
    "        for j1 in range(naa):\n",
    "            for s1 in range(npp):\n",
    "                index1 = j1 * npp + s1\n",
    "                P_exo[index, index1] = PA[j,j1] * Pp[s,s1]\n",
    "\n",
    "        # correction for roundoff error\n",
    "        P_exo[index,:] = P_exo[index,:] / np.sum(P_exo[index,:])\n",
    "\n",
    "        index = index + 1"
   ]
  },
  {
   "cell_type": "code",
   "execution_count": 3,
   "metadata": {
    "jupyter": {
     "outputs_hidden": false,
     "source_hidden": false
    },
    "nteract": {
     "transient": {
      "deleting": false
     }
    }
   },
   "outputs": [],
   "source": [
    "@njit\n",
    "def r_func(A, k):\n",
    "    return A * k ** α\n",
    "\n",
    "@njit(parallel=True)\n",
    "def flow_profit():\n",
    "    profit_tensor = np.empty((n_exo, nkk, nkk)) # (A, p, k, k')\n",
    "    for i_exo in prange(n_exo):\n",
    "        iA, A = exo_pos[i_exo, 0], exo_key[i_exo, 0]\n",
    "        ip, p = exo_pos[i_exo, 1], exo_key[i_exo, 1]\n",
    "        for ik in prange(nkk):\n",
    "            k = k_grid[ik]\n",
    "            profit_tensor[i_exo, ik, :] = r_func(A, k_grid) - p * (k_grid - (1 - δ) * k)\n",
    "    return profit_tensor\n",
    "\n",
    "@njit(parallel=True)\n",
    "def T(v):\n",
    "    Tv = np.zeros_like(v)\n",
    "    pol_k = np.empty_like(v, dtype=np.int8)\n",
    "\n",
    "    for i_exo in prange(n_exo):\n",
    "        iA, A = exo_pos[i_exo, 0], exo_key[i_exo, 0]\n",
    "        ip, p = exo_pos[i_exo, 1], exo_key[i_exo, 1]\n",
    "        for ik in prange(nkk):\n",
    "            k = k_grid[ik]\n",
    "            rhs_vec = r_func(A, k_grid) - p * (k_grid - (1 - δ) * k) \\\n",
    "                        + β * (P_exo[i_exo,:] @ v[:,ik])\n",
    "\n",
    "            k1_loc = np.argmax(rhs_vec)\n",
    "            pol_k[i_exo,ik] = k1_loc\n",
    "            Tv[i_exo,ik] = rhs_vec[k1_loc]\n",
    "\n",
    "    return Tv, pol_k\n",
    "\n",
    "@njit\n",
    "def VFI(v0, tol=1e-6, max_iter=1000):\n",
    "    error = 1\n",
    "    it = 0\n",
    "    v = v0\n",
    "    while error > tol and it < max_iter:\n",
    "        vnew, pol_k = T(v)\n",
    "        error = np.amax(np.abs(vnew - v))\n",
    "        v = vnew\n",
    "        it += 1\n",
    "\n",
    "    return vnew, pol_k\n"
   ]
  },
  {
   "cell_type": "code",
   "execution_count": 4,
   "metadata": {
    "jupyter": {
     "outputs_hidden": false,
     "source_hidden": false
    },
    "nteract": {
     "transient": {
      "deleting": false
     }
    }
   },
   "outputs": [
    {
     "data": {
      "image/png": "[encoded data removed]",
      "text/plain": [
       "<Figure size 432x288 with 1 Axes>"
      ]
     },
     "metadata": {
      "needs_background": "light"
     },
     "output_type": "display_data"
    }
   ],
   "source": [
    "v0 = np.ones((n_exo, nkk), order=\"F\")\n",
    "v_ct_star, pol_k_idx = VFI(v0)\n",
    "plt.plot(k_grid, v_ct_star[0,:])\n",
    "plt.plot(k_grid, v_ct_star[-1,:])\n",
    "# unravel the exogenous states\n",
    "pol_kk_idx = np.empty((naa, npp, nkk), dtype=np.int8)\n",
    "vv_star = np.empty((naa, npp, nkk))\n",
    "for i_exo in range(n_exo):\n",
    "    iA = exo_pos[i_exo, 0]\n",
    "    ip = exo_pos[i_exo, 1]\n",
    "    for ik in range(nkk):\n",
    "        pol_kk_idx[iA,ip,ik] = pol_k_idx[i_exo,ik]\n",
    "        vv_star[iA,ip,ik] = v_ct_star[i_exo,ik]\n",
    "\n",
    "pol_kk = k_grid[pol_kk_idx]\n",
    "pol_k = k_grid[pol_k_idx]\n"
   ]
  },
  {
   "cell_type": "code",
   "execution_count": 5,
   "metadata": {
    "jupyter": {
     "outputs_hidden": false,
     "source_hidden": false
    },
    "nteract": {
     "transient": {
      "deleting": false
     }
    }
   },
   "outputs": [],
   "source": [
    "# for each firm\n",
    "def sim_data_f(pol_k1_idx, mc_A, p_idx, seed, t_length, burning):\n",
    "    A_idx = mc_A.simulate_indices(t_length+burning, random_state=seed)\n",
    "    k_series_idx = np.empty(t_length+burning+1, dtype=np.int8)\n",
    "    k_series_idx[0] = 0\n",
    "    y_series = np.empty(t_length+burning)\n",
    "\n",
    "    for t in range(t_length+burning):\n",
    "        # states: A_t, p_t, k_t(inherited k)\n",
    "        ip, iA = p_idx[t], A_idx[t]\n",
    "        ik = k_series_idx[t]\n",
    "        # policy: k_t+1\n",
    "        ik1 = pol_k1_idx[iA,ip,ik]\n",
    "        y_series[t] = r_func(A_array[iA], k_grid[ik1])\n",
    "        k_series_idx[t+1] = ik1\n",
    "\n",
    "\n",
    "    k_series = k_grid[k_series_idx]\n",
    "\n",
    "    return k_series[-t_length:], y_series[-t_length:]\n",
    "\n",
    "# panel\n",
    "def sim_data_panel(pol_k1_idx, mc_A, mc_p, seed, N=5000, t_length=30):\n",
    "    burning = 20\n",
    "    p_idx = mc_p.simulate_indices(t_length+burning, random_state=seed)\n",
    "\n",
    "    y_sim = np.empty((N, t_length))\n",
    "    k_sim = np.empty_like(y_sim)\n",
    "\n",
    "    for i in range(N):\n",
    "        k_sim[i,:], y_sim[i,:] = sim_data_f(pol_k1_idx, mc_A, p_idx, i+7, t_length, burning)\n",
    "\n",
    "    p_series = p_array[p_idx]\n",
    "    p_series = p_series[-t_length:]\n",
    "    return p_series, y_sim, k_sim\n",
    "\n",
    "def data_todf(y, initial=1989):\n",
    "    df = pd.DataFrame(y)\n",
    "    df[\"firm_id\"] = df.index + 1\n",
    "    df_long = pd.melt(df, id_vars=\"firm_id\", var_name = \"year\", value_name=\"data\")\n",
    "    df_long[\"year\"] = df_long[\"year\"] + initial\n",
    "    return df_long\n"
   ]
  },
  {
   "cell_type": "code",
   "execution_count": 7,
   "metadata": {
    "jupyter": {
     "outputs_hidden": false,
     "source_hidden": false
    },
    "nteract": {
     "transient": {
      "deleting": false
     }
    }
   },
   "outputs": [
    {
     "data": {
      "image/png": "[encoded data removed]",
      "text/plain": [
       "<Figure size 432x288 with 1 Axes>"
      ]
     },
     "metadata": {
      "needs_background": "light"
     },
     "output_type": "display_data"
    }
   ],
   "source": [
    "p_data, y_data, k_data = sim_data_panel(pol_kk_idx, mc_A, mc_p, 1234)\n",
    "plt.plot(p_data)\n",
    "\n",
    "y_df, k_df= data_todf(y_data), data_todf(k_data)\n",
    "dataset = pd.merge(y_df, k_df, how='inner', on=(\"firm_id\", \"year\"))\n",
    "dataset = dataset.sort_values(by=[\"firm_id\", \"year\"])\n",
    "dataset = dataset.rename(columns={\"data_x\": \"output\", \"data_y\": \"capital\"})\n",
    "dataset.to_csv(\"/Users/JuliaYI/Desktop/TA/homework_2022/hw3_data/revfunc_data.csv\", header=True, index=False)\n",
    "\n",
    "p_df = pd.DataFrame(p_data, columns=[\"price\"])\n",
    "p_df[\"year\"] = p_df.index + 1989\n",
    "p_df.to_csv(\"/Users/JuliaYI/Desktop/TA/homework_2022/hw3_data/price_data.csv\", header=True, \\\n",
    "            columns=[\"year\", \"price\"],index=False)"
   ]
  }
 ],
 "metadata": {
  "kernelspec": {
   "display_name": "Python 3",
   "language": "python",
   "name": "python3"
  },
  "language_info": {
   "codemirror_mode": {
    "name": "ipython",
    "version": 3
   },
   "file_extension": ".py",
   "mimetype": "text/x-python",
   "name": "python",
   "nbconvert_exporter": "python",
   "pygments_lexer": "ipython3",
   "version": "3.7.11"
  }
 },
 "nbformat": 4,
 "nbformat_minor": 1
}
