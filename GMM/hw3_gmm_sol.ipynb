{
 "cells": [
  {
   "cell_type": "code",
   "execution_count": 1,
   "metadata": {
    "jupyter": {
     "outputs_hidden": false,
     "source_hidden": false
    },
    "nteract": {
     "transient": {
      "deleting": false
     }
    }
   },
   "outputs": [],
   "source": [
    "# GMM, in python\n",
    "import pandas as pd\n",
    "import numpy as np\n",
    "from scipy import optimize\n",
    "\n",
    "# helper function\n",
    "def ols(y, x):\n",
    "    import numpy.linalg as la\n",
    "    return la.inv(x.T @ x) @ x.T @ y\n"
   ]
  },
  {
   "cell_type": "code",
   "execution_count": 3,
   "metadata": {
    "jupyter": {
     "outputs_hidden": false,
     "source_hidden": false
    },
    "nteract": {
     "transient": {
      "deleting": false
     }
    }
   },
   "outputs": [
    {
     "name": "stdout",
     "output_type": "stream",
     "text": [
      "[ 0.64889678  0.74368167 -0.45614643  0.17717113]\n"
     ]
    }
   ],
   "source": [
    "# load the data\n",
    "rev = pd.read_csv(\"/Users/JuliaYI/Desktop/TA/homework_2022/hw3_data/revfunc_data.csv\")\n",
    "price = pd.read_csv(\"/Users/JuliaYI/Desktop/TA/homework_2022/hw3_data/price_data.csv\")\n",
    "dt = pd.merge(rev, price, how='inner', on=('year'))\n",
    "dt.year = pd.to_datetime(dt.year, format=\"%Y\")\n",
    "dt = dt.set_index('year')\n",
    "dt = dt.to_period(\"Y\")\n",
    "dt['lagprice'] = dt.groupby('firm_id')['price'].shift(1)\n",
    "dt['lag1pi'] = dt.groupby('firm_id')['output'].shift(1)\n",
    "dt['lag1k'] = dt.groupby('firm_id')['capital'].shift(1)\n",
    "#dt['lag2pi'] = dt.groupby('firm_id')['output'].shift(2)\n",
    "#dt['lag2k'] = dt.groupby('firm_id')['capital'].shift(2)\n",
    "\n",
    "dt = dt.sort_values(['firm_id','year'])\n",
    "dt = dt.dropna()\n",
    "\n",
    "# quasi-first-differenicng\n",
    "X = np.log(dt.capital.to_numpy()).reshape(145000,1) #k\n",
    "X = np.hstack((X, np.log(dt.lag1pi.to_numpy()).reshape(145000,1))) #lagpi\n",
    "X = np.hstack((X, np.log(dt.lag1k.to_numpy()).reshape(145000,1))) #lagk\n",
    "X = np.hstack((X, np.ones((145000,1)))) #constant\n",
    "X = np.hstack((X, np.log(dt.output.to_numpy()).reshape(145000,1))) #pi\n",
    "est = ols(X[:,-1], X[:,:-1])\n",
    "print(est)\n"
   ]
  },
  {
   "cell_type": "code",
   "execution_count": 4,
   "metadata": {
    "jupyter": {
     "outputs_hidden": false,
     "source_hidden": false
    },
    "nteract": {
     "transient": {
      "deleting": false
     }
    }
   },
   "outputs": [],
   "source": [
    "# GMM\n",
    "def MM(α, ρ, data):\n",
    "    mm = np.empty(2)\n",
    "    qderror = np.log(data.output) - ρ * np.log(data.lag1pi) - \\\n",
    "        α * (np.log(data.capital) - ρ * np.log(data.lag1k))\n",
    "    loga = np.log(data.output) - α * np.log(data.capital)\n",
    "\n",
    "    mm[0] = np.mean(qderror * data.lag1k)\n",
    "    mm[1] = np.mean(qderror * data.lag1pi)\n",
    "    #mm[2] = np.mean(loga * data.price)\n",
    "    #mm[3] = np.mean(loga * data.lagprice)\n",
    "\n",
    "    return mm\n",
    "\n",
    "def Jfunc(params, W, data):\n",
    "    return MM(*params, data) @ W @ MM(*params, data)\n"
   ]
  },
  {
   "cell_type": "code",
   "execution_count": 5,
   "metadata": {
    "jupyter": {
     "outputs_hidden": false,
     "source_hidden": false
    },
    "nteract": {
     "transient": {
      "deleting": false
     }
    }
   },
   "outputs": [
    {
     "name": "stdout",
     "output_type": "stream",
     "text": [
      "The estimate of α and ρ are 0.6023 and 0.8060, respectively.\n",
      "The estimate of α and ρ are 0.6018 and 0.7959, respectively.\n"
     ]
    }
   ],
   "source": [
    "# first round: use identity matrix as weighting matrix\n",
    "W_mat = np.eye(2)\n",
    "\n",
    "x0 = (0.5, 0.8)\n",
    "bnds = ((0.5, 0.99), (0.6, 0.99))\n",
    "tol = 1e-5\n",
    "opt={'maxiter': 10_00, 'disp': False}\n",
    "params = optimize.minimize(Jfunc, x0, args=(W_mat, dt), method='Powell',\n",
    "                               bounds=bnds, options=opt, tol=tol)\n",
    "\n",
    "print(f\"The estimate of α and ρ are {params.x[0]:.4f} and {params.x[1]:.4f}, respectively.\")\n",
    "\n",
    "price = dt.price.to_numpy()\n",
    "lagprice = dt.lagprice.to_numpy()\n",
    "\n",
    "# second round: use a better weighting matrix\n",
    "def boot(N_sample, T_sample, data, α, ρ):\n",
    "    \"\"\"\n",
    "    obtain VCV of sample moments by bootstrap.\n",
    "\n",
    "    * N_sample: number of sample\n",
    "    * T_sample: length of sample, should be the same with the data period, here is 5000 firms×(30-1) periods\n",
    "    * data: observed data, columns:(k, lagpi, lagk, constant, pi)\n",
    "    * α and ρ: what we got from the previous step\n",
    "    \"\"\"\n",
    "    total = N_sample * T_sample #total number of draws\n",
    "    sample_idx = np.random.default_rng().random(total) * T_sample\n",
    "    sample_idx = sample_idx.astype(int)\n",
    "    sample_idx = sample_idx.reshape((N_sample, T_sample))\n",
    "    mm_sample = np.empty((N_sample, 2)) #column is different moment\n",
    "\n",
    "    for n in range(N_sample):\n",
    "        sample = np.take(data, sample_idx[n,:], axis=0)\n",
    "        qderror = sample[:,4] - ρ * sample[:,1] - α * (sample[:,0] - ρ * sample[:,2])\n",
    "        loga = sample[:,4] - α * sample[:,0] #logpi - αlogk\n",
    "        mm0 = np.mean(qderror * sample[:,2])\n",
    "        mm1 = np.mean(qderror * sample[:,1])\n",
    "        #mm2 = np.mean(loga * price)\n",
    "        #mm3 = np.mean(loga * lagprice)\n",
    "\n",
    "        mm_sample[n,:] = np.array([mm0, mm1])\n",
    "    return np.cov(mm_sample, rowvar=False)\n",
    "\n",
    "α1, ρ1 = params.x\n",
    "Ω = boot(500, 145000, X, α1, ρ1)\n",
    "W1 = np.linalg.inv(Ω)\n",
    "W1 = W1 / np.sum(W1)\n",
    "\n",
    "params_new = optimize.minimize(Jfunc, x0, args=(W1, dt), method='Powell',\n",
    "                               bounds=bnds, options=opt, tol=tol)\n",
    "\n",
    "print(f\"The estimate of α and ρ are {params_new.x[0]:.4f} and {params_new.x[1]:.4f}, respectively.\")\n"
   ]
  },
  {
   "cell_type": "code",
   "execution_count": 8,
   "metadata": {
    "jupyter": {
     "outputs_hidden": false,
     "source_hidden": false
    },
    "nteract": {
     "transient": {
      "deleting": false
     }
    }
   },
   "outputs": [
    {
     "name": "stdout",
     "output_type": "stream",
     "text": [
      "VF iter = 1; VF error = 0.00028599667286555164.\n",
      "α = 0.6018380144391031, ρ = 0.7956140033271345\n",
      "VF iter = 2; VF error = 0.0001436004490018572.\n",
      "α = 0.6018448075198572, ρ = 0.7957576037761364\n",
      "VF iter = 3; VF error = 4.938630324735627e-05.\n",
      "α = 0.6018471084582764, ρ = 0.7958069900793837\n",
      "Converged in 3 iterations.\n"
     ]
    },
    {
     "data": {
      "text/plain": [
       "(0.6018471084582764, 0.7958069900793837)"
      ]
     },
     "execution_count": 8,
     "metadata": {},
     "output_type": "execute_result"
    }
   ],
   "source": [
    "# recursive method\n",
    "def GMM(α0, ρ0, N_boot=100):\n",
    "    \"wrap up the two-step procedures\"\n",
    "    Ω1 = boot(N_boot, 145000, X, α0, ρ0)\n",
    "    W1 = np.linalg.inv(Ω1)\n",
    "    W1 = W1 / np.sum(W1)\n",
    "    α1, ρ1 = optimize.minimize(Jfunc, x0, args=(W1, dt), method='Powell',\n",
    "                                   bounds=bnds, options=opt, tol=tol).x\n",
    "\n",
    "    return α1, ρ1\n",
    "\n",
    "def RecursiveGMM(α0, ρ0, tol=1e-4, max_iter=1000, show_it=True):\n",
    "    error = 1\n",
    "    it = 0\n",
    "    α, ρ = α0, ρ0\n",
    "    while error > tol and it < max_iter:\n",
    "        α1, ρ1 = GMM(α, ρ)\n",
    "        error = np.amax(np.abs(np.array([α1, ρ1])- np.array([α, ρ])))\n",
    "        α, ρ = α1, ρ1\n",
    "        it += 1\n",
    "        if show_it == True:\n",
    "            print(f\"VF iter = {it}; VF error = {error}.\")\n",
    "            print(f\"α = {α1}, ρ = {ρ1}\")\n",
    "    if it == max_iter:\n",
    "        print(f\"Fail to converge within {max_iter} iterations.\")\n",
    "    elif it < max_iter:\n",
    "        print(f\"Converged in {it} iterations.\")\n",
    "\n",
    "    return α1, ρ1\n",
    "\n",
    "RecursiveGMM(0.6018, 0.7959)"
   ]
  }
 ],
 "metadata": {
  "kernelspec": {
   "display_name": "Python 3",
   "language": "python",
   "name": "python3"
  },
  "language_info": {
   "codemirror_mode": {
    "name": "ipython",
    "version": 3
   },
   "file_extension": ".py",
   "mimetype": "text/x-python",
   "name": "python",
   "nbconvert_exporter": "python",
   "pygments_lexer": "ipython3",
   "version": "3.7.11"
  }
 },
 "nbformat": 4,
 "nbformat_minor": 1
}
