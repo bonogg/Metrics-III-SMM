{
 "cells": [
  {
   "cell_type": "markdown",
   "metadata": {
    "nteract": {
     "transient": {
      "deleting": false
     }
    }
   },
   "source": [
    "# Metrics III: GMM and SMM\n",
    "\n",
    "Homework 1, MATLAB sample code\n",
    "\n",
    "Chengzi Yi, 19/02/2022\n"
   ]
  },
  {
   "cell_type": "code",
   "execution_count": 3,
   "metadata": {
    "jupyter": {
     "outputs_hidden": false,
     "source_hidden": false
    },
    "nteract": {
     "transient": {
      "deleting": false
     }
    }
   },
   "outputs": [],
   "source": [
    "% cd 'homework_2022/solution'\n",
    "clear all\n",
    "clc\n"
   ]
  },
  {
   "cell_type": "code",
   "execution_count": 4,
   "metadata": {
    "jupyter": {
     "outputs_hidden": false,
     "source_hidden": false
    },
    "nteract": {
     "transient": {
      "deleting": false
     }
    }
   },
   "outputs": [],
   "source": [
    "% define parameters\n",
    "rho = 0.6;\n",
    "sigma = 1;\n",
    "b = 1;\n",
    "beta = 0.76;\n"
   ]
  },
  {
   "cell_type": "code",
   "execution_count": 5,
   "metadata": {
    "jupyter": {
     "outputs_hidden": false,
     "source_hidden": false
    },
    "nteract": {
     "transient": {
      "deleting": false
     }
    }
   },
   "outputs": [],
   "source": [
    "%Tauchen method\n",
    "ndd = 20;\n",
    "D = 2;\n",
    "\n",
    "% lower bond and upper bond for AR(1) process variable\n",
    "smin = - D * sqrt(sigma ^ 2 / (1 - rho ^ 2));\n",
    "smax = D * sqrt(sigma ^ 2 / (1 - rho ^ 2));\n",
    "\n",
    "% set finite grids evenly spaced\n",
    "d_grid = linspace(smin, smax, ndd);\n",
    "d_grid = d_grid';\n",
    "step = round((smax - smin) / (ndd - 1), 4);\n",
    "% transition matrix\n",
    "Pd = zeros(ndd, ndd);\n",
    "\n",
    "% the transition matrix from state i to state j;\n",
    "% rows are the current states and columns are the future states\n",
    "for i = 1:ndd\n",
    "    for j = 1:ndd\n",
    "        if j == 1\n",
    "            Pd(i,j) = normcdf((d_grid(j) + step/2 - rho*d_grid(i)) / sigma);\n",
    "        elseif j == ndd\n",
    "            Pd(i,j) = 1- normcdf((d_grid(j) - step/2 - rho*d_grid(i)) / sigma);\n",
    "        else\n",
    "            Pd(i,j) = normcdf((d_grid(j) + step/2 - rho*d_grid(i)) / sigma)...\n",
    "                -normcdf((d_grid(j) - step/2 - rho*d_grid(i)) / sigma);\n",
    "        end\n",
    "    end\n",
    "    % adjust the round-off error\n",
    "    Pd(i,:) = Pd(i,:) / sum(Pd(i,:));\n",
    "end\n",
    "\n",
    "% shift the state values by the long-run mean\n",
    "mu = b/(1-rho);\n",
    "d_grid = d_grid + mu;\n"
   ]
  },
  {
   "cell_type": "code",
   "execution_count": 6,
   "metadata": {
    "jupyter": {
     "outputs_hidden": false,
     "source_hidden": false
    },
    "nteract": {
     "transient": {
      "deleting": false
     }
    }
   },
   "outputs": [],
   "source": [
    "% VFI: for beta=0.76, suppose this is the true value\n",
    "max_iter = 200;\n",
    "tol = .000001;\n",
    "Q = zeros(ndd, 1);\n",
    "\n",
    "for j = 1:max_iter\n",
    "    q_true = d_grid + beta * Pd * Q;\n",
    "    error = abs((Q-q_true) ./ Q);\n",
    "\n",
    "    if error <= tol\n",
    "        break\n",
    "    else\n",
    "        Q=q_true;\n",
    "    end\n",
    "end\n"
   ]
  },
  {
   "cell_type": "code",
   "execution_count": 7,
   "metadata": {
    "jupyter": {
     "outputs_hidden": false,
     "source_hidden": false
    },
    "nteract": {
     "transient": {
      "deleting": false
     }
    }
   },
   "outputs": [],
   "source": [
    "%VFI for different betas\n",
    "BETA = [0.9, 0.6];\n",
    "lenBETA = length(BETA);\n",
    "q_BETA = zeros(ndd, lenBETA);\n",
    "for i = 1:lenBETA\n",
    "    bet = BETA(i);\n",
    "\n",
    "    Q = zeros(ndd, 1);\n",
    "    for j = 1:max_iter\n",
    "        q = d_grid + bet * Pd * Q;\n",
    "        error = abs((Q-q) ./ Q);\n",
    "\n",
    "        if error <= tol\n",
    "            break\n",
    "        else\n",
    "            Q=q;\n",
    "        end\n",
    "    end\n",
    "    q_BETA(:,i) = q;\n",
    "end\n",
    "\n"
   ]
  },
  {
   "cell_type": "code",
   "execution_count": 8,
   "metadata": {
    "jupyter": {
     "outputs_hidden": false,
     "source_hidden": false
    },
    "nteract": {
     "transient": {
      "deleting": false
     }
    }
   },
   "outputs": [
    {
     "data": {
      "image/png": "[encoded data removed]",
      "text/plain": [
       "<IPython.core.display.Image object>"
      ]
     },
     "metadata": {},
     "output_type": "display_data"
    }
   ],
   "source": [
    "% Plot\n",
    "figure\n",
    "plot(d_grid, q_BETA(:,1))\n",
    "hold on\n",
    "plot(d_grid, q_BETA(:,2))\n",
    "ylabel('$q(d)$','interpreter','latex')\n",
    "xlabel('$d$','interpreter','latex')\n",
    "title('Functions $q(d)$','interpreter','latex')\n"
   ]
  },
  {
   "cell_type": "code",
   "execution_count": 9,
   "metadata": {
    "jupyter": {
     "outputs_hidden": false,
     "source_hidden": false
    },
    "nteract": {
     "transient": {
      "deleting": false
     }
    }
   },
   "outputs": [
    {
     "name": "stdout",
     "output_type": "stream",
     "text": [
      "Created file '/Users/JuliaYI/Desktop/TA/homework_2022/solution/homework_2022/solution/mc_sample_path.m'.\n"
     ]
    }
   ],
   "source": [
    "%%file homework_2022/solution/mc_sample_path.m\n",
    "function [data, data_idx] = mc_sample_path(P, states, x0, T, seed)\n",
    "    % simulate markov chain process\n",
    "    % P and states are transition matrix and state values respectively\n",
    "    rng(seed) % set seed for random generator\n",
    "    P_dist = cumsum(P, 2); % cumsum of each row\n",
    "\n",
    "    data_idx = zeros(T, 1);\n",
    "    data_idx(1) = x0;\n",
    "\n",
    "    ind = rand(T, 1);\n",
    "\n",
    "    for t = 2:T\n",
    "        i = data_idx(t-1);\n",
    "        data_idx(t) = find(P_dist(i,:) >= ind(t), 1);\n",
    "    end\n",
    "\n",
    "    data = states(data_idx);\n",
    "\n",
    "end\n"
   ]
  },
  {
   "cell_type": "code",
   "execution_count": 10,
   "metadata": {
    "jupyter": {
     "outputs_hidden": false,
     "source_hidden": false
    },
    "nteract": {
     "transient": {
      "deleting": false
     }
    }
   },
   "outputs": [],
   "source": [
    "% simulate the data\n",
    "seed = 123;\n",
    "T = 100;\n",
    "d0 = 4;\n",
    "[d_data, d_idx] = mc_sample_path(Pd, d_grid, d0, T, seed);\n",
    "q_data = q_true(d_idx);\n",
    "mm_dt = [mean(q_data), std(q_data)];\n"
   ]
  },
  {
   "cell_type": "code",
   "execution_count": 11,
   "metadata": {
    "jupyter": {
     "outputs_hidden": false,
     "source_hidden": false
    },
    "nteract": {
     "transient": {
      "deleting": false
     }
    }
   },
   "outputs": [],
   "source": [
    "% wrap up the parameters\n",
    "par.Pd = Pd;\n",
    "par.d_grid = d_grid;\n",
    "par.ndd = ndd;\n"
   ]
  },
  {
   "cell_type": "code",
   "execution_count": 12,
   "metadata": {
    "jupyter": {
     "outputs_hidden": false,
     "source_hidden": false
    },
    "nteract": {
     "transient": {
      "deleting": false
     }
    }
   },
   "outputs": [
    {
     "name": "stdout",
     "output_type": "stream",
     "text": [
      "Created file '/Users/JuliaYI/Desktop/TA/homework_2022/solution/homework_2022/solution/Jfunc.m'.\n"
     ]
    }
   ],
   "source": [
    "%%file homework_2022/solution/Jfunc.m\n",
    "function [stat, mm_sim]= Jfunc(beta0, T_hat, W, seed, par, mm_dt)\n",
    "    % define a function that wrap up the procedures\n",
    "\n",
    "    Pd = par.Pd; d_grid = par.d_grid; ndd = par.ndd;\n",
    "    % simulation of the shock\n",
    "    d0 = 10;\n",
    "    [d_sim, idx_sim] = mc_sample_path(Pd, d_grid, d0, T_hat, seed);\n",
    "\n",
    "    % vfi with beta being the guess beta0\n",
    "    max_iter = 200;\n",
    "    tol = .000001;\n",
    "\n",
    "    Q = zeros(ndd, 1);\n",
    "\n",
    "    iter = 0;\n",
    "    for j = 1:max_iter\n",
    "        q = d_grid + beta0 * Pd * Q;\n",
    "        error = abs((Q-q) ./ Q);\n",
    "\n",
    "        if error <= tol\n",
    "            break\n",
    "        else\n",
    "            Q=q;\n",
    "            iter = iter + 1;\n",
    "        end\n",
    "    end\n",
    "\n",
    "    % simulated moments\n",
    "    q_sim = q(idx_sim);\n",
    "    mm_sim = [mean(q_sim), std(q_sim)];\n",
    "\n",
    "    % stat: this is what we want to minimize\n",
    "    stat = (mm_dt - mm_sim) * W * (mm_dt - mm_sim)';\n",
    "end\n"
   ]
  },
  {
   "cell_type": "code",
   "execution_count": 14,
   "metadata": {
    "jupyter": {
     "outputs_hidden": false,
     "source_hidden": false
    },
    "nteract": {
     "transient": {
      "deleting": false
     }
    }
   },
   "outputs": [
    {
     "name": "stdout",
     "output_type": "stream",
     "text": [
      " results from bounded search\n",
      "    0.7614\n",
      "\n"
     ]
    }
   ],
   "source": [
    "% use indentity matrix as weighting matrix\n",
    "W_mat = eye(2);\n",
    "T_hat = 1000;\n",
    "seed_sim = 222; %use a different seed than the data generating seed\n",
    "\n",
    "% find beta_hat by fminsearch\n",
    "options = optimset('MaxFunEvals',10000,'MaxIter',10000,'Display','off');\n",
    "b0 = .88; %search from here\n",
    "f = @(b)Jfunc(b, T_hat, W_mat, seed_sim, par, mm_dt);\n",
    "\n",
    "est = fminsearch(f, b0, options);\n",
    "disp(' results from bounded search')\n",
    "disp(est)"
   ]
  }
 ],
 "metadata": {
  "kernelspec": {
   "display_name": "Matlab",
   "language": "matlab",
   "name": "matlab"
  },
  "language_info": {
   "codemirror_mode": "octave",
   "file_extension": ".m",
   "help_links": [
    {
     "text": "MetaKernel Magics",
     "url": "https://metakernel.readthedocs.io/en/latest/source/README.html"
    }
   ],
   "mimetype": "text/x-octave",
   "name": "matlab",
   "version": "0.16.11"
  }
 },
 "nbformat": 4,
 "nbformat_minor": 1
}
